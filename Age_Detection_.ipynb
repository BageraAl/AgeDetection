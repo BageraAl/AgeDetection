{
  "nbformat": 4,
  "nbformat_minor": 0,
  "metadata": {
    "colab": {
      "name": "Age_Detection .ipynb",
      "provenance": [],
      "collapsed_sections": []
    },
    "kernelspec": {
      "name": "python3",
      "display_name": "Python 3"
    },
    "accelerator": "GPU"
  },
  "cells": [
    {
      "cell_type": "markdown",
      "metadata": {
        "id": "E5sMsRWtooXq"
      },
      "source": [
        "**Importing the libraries**\n",
        "\n"
      ]
    },
    {
      "cell_type": "code",
      "metadata": {
        "id": "2mUoTT18WbZd",
        "colab": {
          "base_uri": "https://localhost:8080/"
        },
        "outputId": "7cf9dfb4-df69-43ac-e456-8b7a8f1e9041"
      },
      "source": [
        "%pylab inline\n",
        "import tensorflow as tf\n",
        "import os\n",
        "import random\n",
        "import pandas as pd\n",
        "import cv2\n",
        "import numpy as np\n",
        "import keras\n",
        "from keras.utils import np_utils\n",
        "from keras.models import Sequential\n",
        "from keras.layers import Conv2D, MaxPooling2D\n",
        "from keras.layers import Activation, Dropout, Flatten, Dense,LeakyReLU,BatchNormalization,ReLU\n",
        "from sklearn.preprocessing import LabelEncoder\n",
        "from keras.optimizers import Adam\n",
        "from keras.preprocessing.image import ImageDataGenerator\n",
        "\n"
      ],
      "execution_count": null,
      "outputs": [
        {
          "output_type": "stream",
          "text": [
            "Populating the interactive namespace from numpy and matplotlib\n"
          ],
          "name": "stdout"
        },
        {
          "output_type": "stream",
          "text": [
            "/usr/local/lib/python3.6/dist-packages/IPython/core/magics/pylab.py:161: UserWarning: pylab import has clobbered these variables: ['random']\n",
            "`%matplotlib` prevents importing * from pylab and numpy\n",
            "  \"\\n`%matplotlib` prevents importing * from pylab and numpy\"\n"
          ],
          "name": "stderr"
        }
      ]
    },
    {
      "cell_type": "markdown",
      "metadata": {
        "id": "CPg04KkSpCu4"
      },
      "source": [
        "**Loading the data**"
      ]
    },
    {
      "cell_type": "code",
      "metadata": {
        "id": "YBFS6nYFWtQQ"
      },
      "source": [
        "\n",
        "train = pd.read_csv(\"train.csv\")\n"
      ],
      "execution_count": null,
      "outputs": []
    },
    {
      "cell_type": "code",
      "metadata": {
        "id": "fdWjFbmWimZK"
      },
      "source": [
        "\n",
        "##Train folder contains two folders\n",
        "#1 Train which contains training data\n",
        "#2 Val which contains validation data\n",
        "\n",
        "temp1 = []\n",
        "temp2 = []\n",
        "y_train = []\n",
        "y_val = []\n",
        "#Loop through images and grab their id and label\n",
        "for id,lable in zip(train.ID,train.Class):\n",
        "  imgPath_t = os.path.join('Train/Train',id)\n",
        "  imgPath_v = os.path.join('Train/Val',id)\n",
        "  #if image is present in the Train folder add it to the x_train array\n",
        "  if(os.path.exists(imgPath_t)):\n",
        "    img = cv2.imread(imgPath_t)\n",
        "    img = cv2.resize(img,(64,64))\n",
        "    img = img.astype('float32')\n",
        "    temp1.append(img)\n",
        "    y_train.append(lable)\n",
        "#else its present in the Val folder \n",
        "  else:\n",
        "    #add it to the x_val array\n",
        "    img = cv2.imread(imgPath_v)\n",
        "    img = cv2.resize(img,(64,64))\n",
        "    img = img.astype('float32')\n",
        "    temp2.append(img)\n",
        "    y_val.append(lable)\n",
        "  \n",
        "#stack arrays to get a numpy array\n",
        "x_val = np.stack(temp2) \n",
        "x_train = np.stack(temp1) \n",
        "y_val = np.stack(y_val) \n",
        "y_train = np.stack(y_train) \n",
        "\n",
        "\n"
      ],
      "execution_count": null,
      "outputs": []
    },
    {
      "cell_type": "code",
      "metadata": {
        "id": "-yQuFpT0irMg"
      },
      "source": [
        "lb = LabelEncoder()\n",
        "#use the label encoder to encode the labels in the y_train array\n",
        "y_train = lb.fit_transform(y_train)\n",
        "#transform it into a one hot encoder array\n",
        "y_train = np_utils.to_categorical(y_train)"
      ],
      "execution_count": null,
      "outputs": []
    },
    {
      "cell_type": "code",
      "metadata": {
        "id": "UGf8cnIkivDQ"
      },
      "source": [
        "#divide by 255 to normalize the x_val array\n",
        "x_val = x_val / 255.\n",
        "lv = LabelEncoder()\n",
        "#use the label encoder to encode the labels in the y_val array\n",
        "y_val = lv.fit_transform(y_val)\n",
        "#transform it into a one hot encoder array\n",
        "y_val = np_utils.to_categorical(y_val)"
      ],
      "execution_count": null,
      "outputs": []
    },
    {
      "cell_type": "code",
      "metadata": {
        "id": "bxZ6jKf7izzH",
        "colab": {
          "base_uri": "https://localhost:8080/"
        },
        "outputId": "de80e7b7-a9ba-428b-8cb1-5d86458b22cd"
      },
      "source": [
        "print(\"x_train : \" ,x_train.shape)\n",
        "print(\"y_train : \",y_train.shape)\n",
        "print(\"x_val : \",x_val.shape)\n",
        "print(\"y_val : \",y_val.shape)"
      ],
      "execution_count": null,
      "outputs": [
        {
          "output_type": "stream",
          "text": [
            "x_train :  (16014, 64, 64, 3)\n",
            "y_train :  (16014, 3)\n",
            "x_val :  (3892, 64, 64, 3)\n",
            "y_val :  (3892, 3)\n"
          ],
          "name": "stdout"
        }
      ]
    },
    {
      "cell_type": "code",
      "metadata": {
        "id": "Sr2Bny6NVeIn"
      },
      "source": [
        "#Use ImageDataGenerator to generate augmented images from the original ones\n",
        "#apply rescaling so the image data would always be normalized\n",
        "#apply some random distortion to the image like rotating,flipping,shearing\n",
        "train_gen = ImageDataGenerator(rescale = 1./255, shear_range = 0.2,zoom_range = 0.2,horizontal_flip = True)"
      ],
      "execution_count": null,
      "outputs": []
    },
    {
      "cell_type": "code",
      "metadata": {
        "id": "7c1DZagGpbFv"
      },
      "source": [
        "model = Sequential()\n",
        "#Add a convlotuional layer with 64 filters each of size 3x3\n",
        "#images have been rescaled to 64x64 so they are fed as input to the first layer\n",
        "model.add(Conv2D(64, (3, 3), input_shape = (64, 64, 3)))\n",
        "#apply LeakyRelu function to in\n",
        "model.add(LeakyReLU(0.3))\n",
        "\n",
        "model.add(Conv2D(128, (3, 3)))\n",
        "model.add(LeakyReLU(0.3))\n",
        "model.add(BatchNormalization())\n",
        "model.add(MaxPooling2D(pool_size = (2, 2) ,strides = (2,2)))\n",
        "# Dropout\n",
        "model.add(Dropout(0.3))\n",
        "#Max Pooling\n",
        "model.add(Conv2D(128, (3, 3)))\n",
        "model.add(MaxPooling2D(pool_size = (2, 2) , strides = (2,2)))\n",
        "model.add(LeakyReLU(0.3))\n",
        "model.add(BatchNormalization())\n",
        "# Dropout\n",
        "model.add(Dropout(0.4))\n",
        "#Flatten\n",
        "model.add(Flatten())\n",
        "model.add(Dense(128))\n",
        "model.add(LeakyReLU(0.3))\n",
        "model.add(Dense(64))\n",
        "model.add(Dropout(0.5))\n",
        "model.add(Dense(3, activation = 'softmax'))\n",
        "#use this only if you want to load weights from a previously trained model\n",
        "#model.load_weights('weights.h5')"
      ],
      "execution_count": null,
      "outputs": []
    },
    {
      "cell_type": "code",
      "metadata": {
        "id": "aZeU4h7cpfCJ"
      },
      "source": [
        "model.compile(loss='categorical_crossentropy',  optimizer='adam', metrics=['accuracy'])"
      ],
      "execution_count": null,
      "outputs": []
    },
    {
      "cell_type": "code",
      "metadata": {
        "colab": {
          "base_uri": "https://localhost:8080/"
        },
        "id": "QYPKKUWs29H6",
        "outputId": "e595cd1f-5849-4e70-ee1e-eb27bd27c4b0"
      },
      "source": [
        "h = model.fit(train_gen.flow(x_train, y_train, batch_size=32),steps_per_epoch=len(x_train) / 32, epochs=50,validation_data = (x_val,y_val))"
      ],
      "execution_count": null,
      "outputs": [
        {
          "output_type": "stream",
          "text": [
            "Epoch 1/50\n",
            "500/500 [==============================] - 22s 43ms/step - loss: 5.6658 - accuracy: 0.4849 - val_loss: 0.8995 - val_accuracy: 0.5938\n",
            "Epoch 2/50\n",
            "500/500 [==============================] - 21s 42ms/step - loss: 1.2211 - accuracy: 0.5648 - val_loss: 0.7861 - val_accuracy: 0.6408\n",
            "Epoch 3/50\n",
            "500/500 [==============================] - 21s 43ms/step - loss: 0.8315 - accuracy: 0.6474 - val_loss: 0.7235 - val_accuracy: 0.6873\n",
            "Epoch 4/50\n",
            "500/500 [==============================] - 21s 42ms/step - loss: 0.7553 - accuracy: 0.6729 - val_loss: 0.7213 - val_accuracy: 0.6837\n",
            "Epoch 5/50\n",
            "500/500 [==============================] - 22s 43ms/step - loss: 0.7429 - accuracy: 0.6823 - val_loss: 0.7657 - val_accuracy: 0.6590\n",
            "Epoch 6/50\n",
            "500/500 [==============================] - 21s 43ms/step - loss: 0.7183 - accuracy: 0.6968 - val_loss: 0.6924 - val_accuracy: 0.7004\n",
            "Epoch 7/50\n",
            "500/500 [==============================] - 21s 43ms/step - loss: 0.7170 - accuracy: 0.6935 - val_loss: 0.7090 - val_accuracy: 0.7027\n",
            "Epoch 8/50\n",
            "500/500 [==============================] - 21s 43ms/step - loss: 0.7023 - accuracy: 0.6942 - val_loss: 0.7178 - val_accuracy: 0.6914\n",
            "Epoch 9/50\n",
            "500/500 [==============================] - 22s 43ms/step - loss: 0.7035 - accuracy: 0.7024 - val_loss: 0.7066 - val_accuracy: 0.7097\n",
            "Epoch 10/50\n",
            "500/500 [==============================] - 21s 43ms/step - loss: 0.6783 - accuracy: 0.7098 - val_loss: 0.6876 - val_accuracy: 0.7091\n",
            "Epoch 11/50\n",
            "500/500 [==============================] - 21s 43ms/step - loss: 0.6876 - accuracy: 0.7090 - val_loss: 0.6598 - val_accuracy: 0.7233\n",
            "Epoch 12/50\n",
            "500/500 [==============================] - 21s 43ms/step - loss: 0.6832 - accuracy: 0.7027 - val_loss: 0.6987 - val_accuracy: 0.6917\n",
            "Epoch 13/50\n",
            "500/500 [==============================] - 21s 43ms/step - loss: 0.6601 - accuracy: 0.7174 - val_loss: 0.6663 - val_accuracy: 0.7354\n",
            "Epoch 14/50\n",
            "500/500 [==============================] - 21s 43ms/step - loss: 0.6639 - accuracy: 0.7201 - val_loss: 0.6980 - val_accuracy: 0.7246\n",
            "Epoch 15/50\n",
            "500/500 [==============================] - 21s 43ms/step - loss: 0.6414 - accuracy: 0.7266 - val_loss: 0.6326 - val_accuracy: 0.7479\n",
            "Epoch 16/50\n",
            "500/500 [==============================] - 22s 43ms/step - loss: 0.6376 - accuracy: 0.7305 - val_loss: 0.6554 - val_accuracy: 0.7181\n",
            "Epoch 17/50\n",
            "500/500 [==============================] - 21s 43ms/step - loss: 0.6253 - accuracy: 0.7342 - val_loss: 0.7513 - val_accuracy: 0.7050\n",
            "Epoch 18/50\n",
            "500/500 [==============================] - 21s 43ms/step - loss: 0.6286 - accuracy: 0.7421 - val_loss: 0.6350 - val_accuracy: 0.7418\n",
            "Epoch 19/50\n",
            "500/500 [==============================] - 22s 43ms/step - loss: 0.6237 - accuracy: 0.7384 - val_loss: 0.6247 - val_accuracy: 0.7390\n",
            "Epoch 20/50\n",
            "500/500 [==============================] - 22s 43ms/step - loss: 0.6042 - accuracy: 0.7513 - val_loss: 0.5930 - val_accuracy: 0.7536\n",
            "Epoch 21/50\n",
            "500/500 [==============================] - 21s 43ms/step - loss: 0.6131 - accuracy: 0.7470 - val_loss: 0.6391 - val_accuracy: 0.7464\n",
            "Epoch 22/50\n",
            "500/500 [==============================] - 21s 43ms/step - loss: 0.5942 - accuracy: 0.7545 - val_loss: 0.6524 - val_accuracy: 0.7276\n",
            "Epoch 23/50\n",
            "500/500 [==============================] - 21s 43ms/step - loss: 0.5792 - accuracy: 0.7572 - val_loss: 0.6134 - val_accuracy: 0.7451\n",
            "Epoch 24/50\n",
            "500/500 [==============================] - 22s 44ms/step - loss: 0.5681 - accuracy: 0.7654 - val_loss: 0.6151 - val_accuracy: 0.7433\n",
            "Epoch 25/50\n",
            "500/500 [==============================] - 21s 43ms/step - loss: 0.5719 - accuracy: 0.7641 - val_loss: 0.5961 - val_accuracy: 0.7580\n",
            "Epoch 26/50\n",
            "500/500 [==============================] - 21s 43ms/step - loss: 0.5523 - accuracy: 0.7714 - val_loss: 0.6054 - val_accuracy: 0.7528\n",
            "Epoch 27/50\n",
            "500/500 [==============================] - 21s 43ms/step - loss: 0.5567 - accuracy: 0.7665 - val_loss: 0.6295 - val_accuracy: 0.7346\n",
            "Epoch 28/50\n",
            "500/500 [==============================] - 21s 43ms/step - loss: 0.5356 - accuracy: 0.7826 - val_loss: 0.5779 - val_accuracy: 0.7626\n",
            "Epoch 29/50\n",
            "500/500 [==============================] - 21s 43ms/step - loss: 0.5375 - accuracy: 0.7803 - val_loss: 0.5446 - val_accuracy: 0.7742\n",
            "Epoch 30/50\n",
            "500/500 [==============================] - 21s 43ms/step - loss: 0.5302 - accuracy: 0.7845 - val_loss: 0.5550 - val_accuracy: 0.7646\n",
            "Epoch 31/50\n",
            "500/500 [==============================] - 22s 43ms/step - loss: 0.5228 - accuracy: 0.7837 - val_loss: 0.5947 - val_accuracy: 0.7562\n",
            "Epoch 32/50\n",
            "500/500 [==============================] - 21s 43ms/step - loss: 0.5197 - accuracy: 0.7924 - val_loss: 0.5989 - val_accuracy: 0.7503\n",
            "Epoch 33/50\n",
            "500/500 [==============================] - 22s 43ms/step - loss: 0.5099 - accuracy: 0.7897 - val_loss: 0.5487 - val_accuracy: 0.7716\n",
            "Epoch 34/50\n",
            "500/500 [==============================] - 22s 44ms/step - loss: 0.5108 - accuracy: 0.7896 - val_loss: 0.5554 - val_accuracy: 0.7739\n",
            "Epoch 35/50\n",
            "500/500 [==============================] - 22s 44ms/step - loss: 0.5023 - accuracy: 0.7919 - val_loss: 0.5511 - val_accuracy: 0.7819\n",
            "Epoch 36/50\n",
            "500/500 [==============================] - 22s 43ms/step - loss: 0.5073 - accuracy: 0.7937 - val_loss: 0.5458 - val_accuracy: 0.7747\n",
            "Epoch 37/50\n",
            "500/500 [==============================] - 22s 43ms/step - loss: 0.4949 - accuracy: 0.7994 - val_loss: 0.5565 - val_accuracy: 0.7765\n",
            "Epoch 38/50\n",
            "500/500 [==============================] - 22s 44ms/step - loss: 0.4978 - accuracy: 0.7974 - val_loss: 0.5289 - val_accuracy: 0.7849\n",
            "Epoch 39/50\n",
            "500/500 [==============================] - 22s 43ms/step - loss: 0.4929 - accuracy: 0.8003 - val_loss: 0.5477 - val_accuracy: 0.7752\n",
            "Epoch 40/50\n",
            "500/500 [==============================] - 22s 43ms/step - loss: 0.4725 - accuracy: 0.8029 - val_loss: 0.5836 - val_accuracy: 0.7654\n",
            "Epoch 41/50\n",
            "500/500 [==============================] - 22s 43ms/step - loss: 0.4846 - accuracy: 0.8043 - val_loss: 0.5293 - val_accuracy: 0.7837\n",
            "Epoch 42/50\n",
            "500/500 [==============================] - 22s 43ms/step - loss: 0.4703 - accuracy: 0.8096 - val_loss: 0.5923 - val_accuracy: 0.7585\n",
            "Epoch 43/50\n",
            "500/500 [==============================] - 22s 43ms/step - loss: 0.4650 - accuracy: 0.8116 - val_loss: 0.5976 - val_accuracy: 0.7551\n",
            "Epoch 44/50\n",
            "500/500 [==============================] - 22s 43ms/step - loss: 0.4655 - accuracy: 0.8120 - val_loss: 0.5153 - val_accuracy: 0.7914\n",
            "Epoch 45/50\n",
            "500/500 [==============================] - 22s 43ms/step - loss: 0.4498 - accuracy: 0.8196 - val_loss: 0.5835 - val_accuracy: 0.7590\n",
            "Epoch 46/50\n",
            "500/500 [==============================] - 22s 44ms/step - loss: 0.4697 - accuracy: 0.8106 - val_loss: 0.5349 - val_accuracy: 0.7847\n",
            "Epoch 47/50\n",
            "500/500 [==============================] - 22s 43ms/step - loss: 0.4436 - accuracy: 0.8198 - val_loss: 0.5379 - val_accuracy: 0.7834\n",
            "Epoch 48/50\n",
            "500/500 [==============================] - 22s 43ms/step - loss: 0.4512 - accuracy: 0.8171 - val_loss: 0.5502 - val_accuracy: 0.7780\n",
            "Epoch 49/50\n",
            "500/500 [==============================] - 22s 43ms/step - loss: 0.4392 - accuracy: 0.8239 - val_loss: 0.5898 - val_accuracy: 0.7700\n",
            "Epoch 50/50\n",
            "500/500 [==============================] - 22s 43ms/step - loss: 0.4444 - accuracy: 0.8197 - val_loss: 0.5694 - val_accuracy: 0.7788\n"
          ],
          "name": "stdout"
        }
      ]
    },
    {
      "cell_type": "code",
      "metadata": {
        "colab": {
          "base_uri": "https://localhost:8080/",
          "height": 295
        },
        "id": "XUf6EkyrJCpV",
        "outputId": "ab14433f-04df-43ce-a433-e51dadf8510e"
      },
      "source": [
        "#save weights\n",
        "model.save_weights('weights.h5')\n",
        "plt.plot(h.history['accuracy'])\n",
        "plt.plot(h.history['val_accuracy'])\n",
        "plt.title('model accuracy')\n",
        "plt.ylabel('accuracy')\n",
        "plt.xlabel('epoch')\n",
        "plt.legend(['train', 'val'], loc='upper left')\n",
        "plt.show()"
      ],
      "execution_count": null,
      "outputs": [
        {
          "output_type": "display_data",
          "data": {
            "image/png": "[encoded data removed]",
            "text/plain": [
              "<Figure size 432x288 with 1 Axes>"
            ]
          },
          "metadata": {
            "tags": [],
            "needs_background": "light"
          }
        }
      ]
    },
    {
      "cell_type": "code",
      "metadata": {
        "id": "O8ZYmS-YInM8",
        "colab": {
          "base_uri": "https://localhost:8080/",
          "height": 295
        },
        "outputId": "0c65bdd7-a8c4-4dca-f738-426094d5125c"
      },
      "source": [
        "plt.plot(h.history['loss'])\n",
        "plt.plot(h.history['val_loss'])\n",
        "plt.title('model loss')\n",
        "plt.ylabel('loss')\n",
        "plt.xlabel('epoch')\n",
        "plt.legend(['train', 'val'], loc='upper left')\n",
        "plt.show()"
      ],
      "execution_count": null,
      "outputs": [
        {
          "output_type": "display_data",
          "data": {
            "image/png": "[encoded data removed]",
            "text/plain": [
              "<Figure size 432x288 with 1 Axes>"
            ]
          },
          "metadata": {
            "tags": [],
            "needs_background": "light"
          }
        }
      ]
    },
    {
      "cell_type": "code",
      "metadata": {
        "id": "WTovRAbAB9Uk"
      },
      "source": [
        ""
      ],
      "execution_count": null,
      "outputs": []
    }
  ]
}